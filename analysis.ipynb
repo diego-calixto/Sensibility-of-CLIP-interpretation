{
 "cells": [
  {
   "cell_type": "code",
   "execution_count": 15,
   "metadata": {},
   "outputs": [],
   "source": [
    "import pandas as pd\n",
    "import torch\n",
    "import numpy as np\n",
    "from scipy.stats import spearmanr\n",
    "device = \"cuda\" if torch.cuda.is_available() else \"cpu\""
   ]
  },
  {
   "cell_type": "code",
   "execution_count": 16,
   "metadata": {},
   "outputs": [],
   "source": [
    "log = pd.read_pickle(\"../backup/results_full_32_255.pkl\")"
   ]
  },
  {
   "cell_type": "markdown",
   "metadata": {},
   "source": [
    "log = {\n",
    "        'img_id': [],\n",
    "        'interpretability_method': [],\n",
    "        'label': [],\n",
    "        'similarity_original': [],\n",
    "        'similarity_perturb': [],\n",
    "        'hm_original': [],\n",
    "        'hm_perturbed': [],\n",
    "        'alpha': [],\n",
    "        'clip_model': []\n",
    "    }"
   ]
  },
  {
   "cell_type": "code",
   "execution_count": 20,
   "metadata": {},
   "outputs": [
    {
     "data": {
      "text/html": [
       "<div>\n",
       "<style scoped>\n",
       "    .dataframe tbody tr th:only-of-type {\n",
       "        vertical-align: middle;\n",
       "    }\n",
       "\n",
       "    .dataframe tbody tr th {\n",
       "        vertical-align: top;\n",
       "    }\n",
       "\n",
       "    .dataframe thead th {\n",
       "        text-align: right;\n",
       "    }\n",
       "</style>\n",
       "<table border=\"1\" class=\"dataframe\">\n",
       "  <thead>\n",
       "    <tr style=\"text-align: right;\">\n",
       "      <th></th>\n",
       "      <th>img_id</th>\n",
       "      <th>interpretability_method</th>\n",
       "      <th>label</th>\n",
       "      <th>similarity_original</th>\n",
       "      <th>similarity_perturb</th>\n",
       "      <th>hm_original</th>\n",
       "      <th>hm_perturbed</th>\n",
       "      <th>alpha</th>\n",
       "      <th>clip_model</th>\n",
       "      <th>spearman_rank_correlation</th>\n",
       "      <th>top_k_intersection</th>\n",
       "      <th>k_value</th>\n",
       "      <th>ssim</th>\n",
       "      <th>simimilarity_diff</th>\n",
       "    </tr>\n",
       "  </thead>\n",
       "  <tbody>\n",
       "    <tr>\n",
       "      <th>47569</th>\n",
       "      <td>5284</td>\n",
       "      <td>eclip</td>\n",
       "      <td>0</td>\n",
       "      <td>0.27002</td>\n",
       "      <td>0.317627</td>\n",
       "      <td>[[0.001682, 0.001682, 0.001682, 0.001682, 0.00...</td>\n",
       "      <td>[[0.0726, 0.0726, 0.0726, 0.0726, 0.0726, 0.07...</td>\n",
       "      <td>0.12549</td>\n",
       "      <td>ViT-B/16</td>\n",
       "      <td>NaN</td>\n",
       "      <td>NaN</td>\n",
       "      <td>NaN</td>\n",
       "      <td>NaN</td>\n",
       "      <td>NaN</td>\n",
       "    </tr>\n",
       "    <tr>\n",
       "      <th>47570</th>\n",
       "      <td>5285</td>\n",
       "      <td>selfattn</td>\n",
       "      <td>0</td>\n",
       "      <td>0.25708</td>\n",
       "      <td>0.311768</td>\n",
       "      <td>[[0.0, 0.0, 0.0, 0.0, 0.0, 0.0, 0.0, 0.0, 0.0,...</td>\n",
       "      <td>[[0.0, 0.0, 0.0, 0.0, 0.0, 0.0, 0.0, 0.0, 0.0,...</td>\n",
       "      <td>0.12549</td>\n",
       "      <td>ViT-B/16</td>\n",
       "      <td>NaN</td>\n",
       "      <td>NaN</td>\n",
       "      <td>NaN</td>\n",
       "      <td>NaN</td>\n",
       "      <td>NaN</td>\n",
       "    </tr>\n",
       "    <tr>\n",
       "      <th>47571</th>\n",
       "      <td>5285</td>\n",
       "      <td>gradcam</td>\n",
       "      <td>0</td>\n",
       "      <td>0.25708</td>\n",
       "      <td>0.311768</td>\n",
       "      <td>[[0.2375, 0.2375, 0.2375, 0.2375, 0.2375, 0.23...</td>\n",
       "      <td>[[0.10535, 0.10535, 0.10535, 0.10535, 0.10535,...</td>\n",
       "      <td>0.12549</td>\n",
       "      <td>ViT-B/16</td>\n",
       "      <td>NaN</td>\n",
       "      <td>NaN</td>\n",
       "      <td>NaN</td>\n",
       "      <td>NaN</td>\n",
       "      <td>NaN</td>\n",
       "    </tr>\n",
       "    <tr>\n",
       "      <th>47572</th>\n",
       "      <td>5285</td>\n",
       "      <td>maskclip</td>\n",
       "      <td>0</td>\n",
       "      <td>0.25708</td>\n",
       "      <td>0.311768</td>\n",
       "      <td>[[0.2544, 0.2544, 0.2544, 0.2544, 0.2544, 0.25...</td>\n",
       "      <td>[[0.2131, 0.2131, 0.2131, 0.2131, 0.2131, 0.21...</td>\n",
       "      <td>0.12549</td>\n",
       "      <td>ViT-B/16</td>\n",
       "      <td>NaN</td>\n",
       "      <td>NaN</td>\n",
       "      <td>NaN</td>\n",
       "      <td>NaN</td>\n",
       "      <td>NaN</td>\n",
       "    </tr>\n",
       "    <tr>\n",
       "      <th>47573</th>\n",
       "      <td>5285</td>\n",
       "      <td>eclip</td>\n",
       "      <td>0</td>\n",
       "      <td>0.25708</td>\n",
       "      <td>0.311768</td>\n",
       "      <td>[[0.0313, 0.0313, 0.0313, 0.0313, 0.0313, 0.03...</td>\n",
       "      <td>[[0.0309, 0.0309, 0.0309, 0.0309, 0.0309, 0.03...</td>\n",
       "      <td>0.12549</td>\n",
       "      <td>ViT-B/16</td>\n",
       "      <td>NaN</td>\n",
       "      <td>NaN</td>\n",
       "      <td>NaN</td>\n",
       "      <td>NaN</td>\n",
       "      <td>NaN</td>\n",
       "    </tr>\n",
       "  </tbody>\n",
       "</table>\n",
       "</div>"
      ],
      "text/plain": [
       "       img_id interpretability_method  label  similarity_original  \\\n",
       "47569    5284                   eclip      0              0.27002   \n",
       "47570    5285                selfattn      0              0.25708   \n",
       "47571    5285                 gradcam      0              0.25708   \n",
       "47572    5285                maskclip      0              0.25708   \n",
       "47573    5285                   eclip      0              0.25708   \n",
       "\n",
       "       similarity_perturb                                        hm_original  \\\n",
       "47569            0.317627  [[0.001682, 0.001682, 0.001682, 0.001682, 0.00...   \n",
       "47570            0.311768  [[0.0, 0.0, 0.0, 0.0, 0.0, 0.0, 0.0, 0.0, 0.0,...   \n",
       "47571            0.311768  [[0.2375, 0.2375, 0.2375, 0.2375, 0.2375, 0.23...   \n",
       "47572            0.311768  [[0.2544, 0.2544, 0.2544, 0.2544, 0.2544, 0.25...   \n",
       "47573            0.311768  [[0.0313, 0.0313, 0.0313, 0.0313, 0.0313, 0.03...   \n",
       "\n",
       "                                            hm_perturbed    alpha clip_model  \\\n",
       "47569  [[0.0726, 0.0726, 0.0726, 0.0726, 0.0726, 0.07...  0.12549   ViT-B/16   \n",
       "47570  [[0.0, 0.0, 0.0, 0.0, 0.0, 0.0, 0.0, 0.0, 0.0,...  0.12549   ViT-B/16   \n",
       "47571  [[0.10535, 0.10535, 0.10535, 0.10535, 0.10535,...  0.12549   ViT-B/16   \n",
       "47572  [[0.2131, 0.2131, 0.2131, 0.2131, 0.2131, 0.21...  0.12549   ViT-B/16   \n",
       "47573  [[0.0309, 0.0309, 0.0309, 0.0309, 0.0309, 0.03...  0.12549   ViT-B/16   \n",
       "\n",
       "       spearman_rank_correlation  top_k_intersection  k_value  ssim  \\\n",
       "47569                        NaN                 NaN      NaN   NaN   \n",
       "47570                        NaN                 NaN      NaN   NaN   \n",
       "47571                        NaN                 NaN      NaN   NaN   \n",
       "47572                        NaN                 NaN      NaN   NaN   \n",
       "47573                        NaN                 NaN      NaN   NaN   \n",
       "\n",
       "       simimilarity_diff  \n",
       "47569                NaN  \n",
       "47570                NaN  \n",
       "47571                NaN  \n",
       "47572                NaN  \n",
       "47573                NaN  "
      ]
     },
     "execution_count": 20,
     "metadata": {},
     "output_type": "execute_result"
    }
   ],
   "source": [
    "log.tail()"
   ]
  },
  {
   "cell_type": "code",
   "execution_count": 18,
   "metadata": {},
   "outputs": [],
   "source": [
    "log = log.drop(log[log['interpretability_method'].str.contains('eclip|selfattn|gradcam|maskclip', na=False)].index)"
   ]
  },
  {
   "cell_type": "code",
   "execution_count": 19,
   "metadata": {},
   "outputs": [],
   "source": [
    "novo_df = pd.read_pickle(\"../backup/results_corrected_32_255.pkl\")\n",
    "log = pd.concat([log, novo_df], ignore_index=True)"
   ]
  },
  {
   "cell_type": "code",
   "execution_count": 21,
   "metadata": {},
   "outputs": [],
   "source": [
    "log.to_pickle(\"../backup/results_full_32_255.pkl\")"
   ]
  },
  {
   "cell_type": "code",
   "execution_count": 8,
   "metadata": {},
   "outputs": [
    {
     "data": {
      "text/html": [
       "<div>\n",
       "<style scoped>\n",
       "    .dataframe tbody tr th:only-of-type {\n",
       "        vertical-align: middle;\n",
       "    }\n",
       "\n",
       "    .dataframe tbody tr th {\n",
       "        vertical-align: top;\n",
       "    }\n",
       "\n",
       "    .dataframe thead th {\n",
       "        text-align: right;\n",
       "    }\n",
       "</style>\n",
       "<table border=\"1\" class=\"dataframe\">\n",
       "  <thead>\n",
       "    <tr style=\"text-align: right;\">\n",
       "      <th></th>\n",
       "      <th>hm_original</th>\n",
       "      <th>hm_perturbed</th>\n",
       "    </tr>\n",
       "  </thead>\n",
       "  <tbody>\n",
       "    <tr>\n",
       "      <th>3</th>\n",
       "      <td>[[0.06186527, 0.06186527, 0.06186527, 0.061865...</td>\n",
       "      <td>[[0.06186527, 0.06186527, 0.06186527, 0.061865...</td>\n",
       "    </tr>\n",
       "  </tbody>\n",
       "</table>\n",
       "</div>"
      ],
      "text/plain": [
       "                                         hm_original  \\\n",
       "3  [[0.06186527, 0.06186527, 0.06186527, 0.061865...   \n",
       "\n",
       "                                        hm_perturbed  \n",
       "3  [[0.06186527, 0.06186527, 0.06186527, 0.061865...  "
      ]
     },
     "execution_count": 8,
     "metadata": {},
     "output_type": "execute_result"
    }
   ],
   "source": [
    "filtered_data = log.loc[log[\"interpretability_method\"] == \"eclip\", [\"hm_original\", \"hm_perturbed\"]]\n",
    "filtered_data"
   ]
  },
  {
   "cell_type": "code",
   "execution_count": null,
   "metadata": {},
   "outputs": [],
   "source": [
    "for idx, row in filtered_data.iterrows():\n",
    "    # Cada heatmap está como lista de listas de tensores -> converter para tensor\n",
    "    orig = torch.tensor([[t.item() for t in inner] for inner in row[\"hm_original\"]])\n",
    "    pert = torch.tensor([[t.item() for t in inner] for inner in row[\"hm_perturbed\"]])\n",
    "    \n",
    "    # Flatten para 1D arrays\n",
    "    flat_orig = orig.flatten().to(device).numpy()\n",
    "    flat_perturb = pert.flatten().to(device).numpy()\n",
    "    \n",
    "    # Calcular Spearman\n",
    "    corr, p_val = spearmanr(flat_orig, flat_perturb)\n",
    "    print(f\"Spearman correlation: {corr:.3f}, p-value: {p_val:.3e}\")"
   ]
  },
  {
   "cell_type": "code",
   "execution_count": null,
   "metadata": {},
   "outputs": [],
   "source": []
  },
  {
   "cell_type": "code",
   "execution_count": null,
   "metadata": {},
   "outputs": [],
   "source": [
    "def topk_intersection(map1, map2, k):\n",
    "    flat1 = map1.flatten()\n",
    "    flat2 = map2.flatten()\n",
    "    \n",
    "    topk_indices_1 = torch.topk(flat1.clone().detach(), k).indices\n",
    "    topk_indices_2 = torch.topk(flat2.clone().detach(), k).indices\n",
    "\n",
    "    set1 = set(topk_indices_1.tolist())\n",
    "    set2 = set(topk_indices_2.tolist())    \n",
    "    \n",
    "    intersection = set1.intersection(set2)\n",
    "    \n",
    "    return len(intersection), len(intersection) / k\n",
    "\n",
    "# Valor de k (pode ajustar)\n",
    "k = 100\n",
    "\n",
    "for idx, row in filtered_data.iterrows():\n",
    "    # Converter para tensores\n",
    "    map1 = torch.tensor([[t.item() for t in inner] for inner in row[\"hm_original\"]])\n",
    "    map2 = torch.tensor([[t.item() for t in inner] for inner in row[\"hm_perturbed\"]])\n",
    "    \n",
    "    # Calcular interseção\n",
    "    inter_count, inter_ratio = topk_intersection(map1, map2, k)\n",
    "    print(f\"Top-{k} intersection count: {inter_count}\")\n",
    "    print(f\"Top-{k} intersection ratio: {inter_ratio:.3f}\") "
   ]
  },
  {
   "cell_type": "code",
   "execution_count": 15,
   "metadata": {},
   "outputs": [
    {
     "name": "stdout",
     "output_type": "stream",
     "text": [
      "Method: selfattn\n",
      "ssim value: 1.0 \n",
      "Method: gradcam\n",
      "ssim value: 1.0 \n",
      "Method: maskclip\n",
      "ssim value: 1.0 \n",
      "Method: eclip\n",
      "ssim value: 1.0 \n",
      "Method: game\n",
      "ssim value: 0.41159949828650183 \n",
      "Method: rollout\n",
      "ssim value: 0.7008852546549125 \n",
      "Method: surgery\n",
      "ssim value: 0.5809520827451814 \n",
      "Method: m2ib\n",
      "ssim value: 0.4870703768018727 \n",
      "Method: rise\n",
      "ssim value: 0.38206883497691096 \n"
     ]
    }
   ],
   "source": [
    "from skimage.metrics import structural_similarity as ssim\n",
    "\n",
    "hm_original_values = []\n",
    "hm_perturbed_values = []\n",
    "\n",
    "for idx, row in log.iterrows():\n",
    "    # Obter os tensores de hm_original e hm_perturbed\n",
    "    hm_original = np.array([tensor.flatten() for tensor in row['hm_original']])  # Transformar em array 1D\n",
    "    hm_perturbed = np.array([tensor.flatten() for tensor in row['hm_perturbed']])  # Transformar em array 1D\n",
    "    \n",
    "    # Certificar-se de que os dados estão no formato adequado para o SSIM\n",
    "    # Reshaping para 2D (precisa ser 2D para o cálculo do SSIM)\n",
    "    hm_original = hm_original.reshape(224, 224)  # Exemplo, ajuste conforme o tamanho real do mapa\n",
    "    hm_perturbed = hm_perturbed.reshape(224, 224)\n",
    "\n",
    "    ssim_value = ssim(hm_original, hm_perturbed, data_range=hm_perturbed.max() - hm_perturbed.min())\n",
    "    print(f\"Method: {row['interpretability_method']}\\nssim value: {ssim_value} \")\n",
    "\n"
   ]
  },
  {
   "cell_type": "code",
   "execution_count": 28,
   "metadata": {},
   "outputs": [
    {
     "name": "stdout",
     "output_type": "stream",
     "text": [
      "image id: 0.0\n",
      "similarity difference: 0.023791759128641756 \n"
     ]
    }
   ],
   "source": [
    "agg_data = log.groupby('img_id').agg({\n",
    "    'similarity_original': 'mean',  # Média das similaridades originais\n",
    "    'similarity_perturb': 'mean',   # Média das similaridades perturbadas\n",
    "}).reset_index()\n",
    "\n",
    "for idx, row in agg_data.iterrows():\n",
    "    sim_diff = (row['similarity_perturb'] - row['similarity_original']) / row['similarity_original']\n",
    "    print(f\"image id: {row['img_id']}\\nsimilarity difference: {sim_diff} \")\n",
    "    "
   ]
  },
  {
   "cell_type": "code",
   "execution_count": 23,
   "metadata": {},
   "outputs": [
    {
     "name": "stdout",
     "output_type": "stream",
     "text": [
      "   img_id  similarity_original  similarity_perturb\n",
      "0       0             0.297058            0.304125\n"
     ]
    }
   ],
   "source": [
    "agg_data = log.groupby('img_id').agg({\n",
    "    'similarity_original': 'mean',  # Média das similaridades originais\n",
    "    'similarity_perturb': 'mean',   # Média das similaridades perturbadas\n",
    "}).reset_index()\n",
    "\n",
    "print(agg_data)"
   ]
  }
 ],
 "metadata": {
  "kernelspec": {
   "display_name": "Python 3 (ipykernel)",
   "language": "python",
   "name": "python3"
  },
  "language_info": {
   "codemirror_mode": {
    "name": "ipython",
    "version": 3
   },
   "file_extension": ".py",
   "mimetype": "text/x-python",
   "name": "python",
   "nbconvert_exporter": "python",
   "pygments_lexer": "ipython3",
   "version": "3.13.2"
  }
 },
 "nbformat": 4,
 "nbformat_minor": 4
}
