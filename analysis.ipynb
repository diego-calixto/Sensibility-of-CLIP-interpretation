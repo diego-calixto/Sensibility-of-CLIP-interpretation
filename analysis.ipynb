{
 "cells": [
  {
   "cell_type": "code",
   "execution_count": 3,
   "metadata": {},
   "outputs": [],
   "source": [
    "import pandas as pd\n",
    "import torch\n",
    "import numpy as np\n",
    "from scipy.stats import spearmanr\n",
    "device = \"cuda\" if torch.cuda.is_available() else \"cpu\""
   ]
  },
  {
   "cell_type": "code",
   "execution_count": 5,
   "metadata": {},
   "outputs": [],
   "source": [
    "log = pd.read_pickle(\"E:\\projetos\\\\Grad-Eclip\\\\results_simple.pkl\")"
   ]
  },
  {
   "cell_type": "markdown",
   "metadata": {},
   "source": [
    "log = {\n",
    "        'img_id': [],\n",
    "        'interpretability_method': [],\n",
    "        'label': [],\n",
    "        'similarity_original': [],\n",
    "        'similarity_perturb': [],\n",
    "        'hm_original': [],\n",
    "        'hm_perturbed': [],\n",
    "        'alpha': [],\n",
    "        'clip_model': []\n",
    "    }"
   ]
  },
  {
   "cell_type": "code",
   "execution_count": 6,
   "metadata": {},
   "outputs": [
    {
     "data": {
      "text/html": [
       "<div>\n",
       "<style scoped>\n",
       "    .dataframe tbody tr th:only-of-type {\n",
       "        vertical-align: middle;\n",
       "    }\n",
       "\n",
       "    .dataframe tbody tr th {\n",
       "        vertical-align: top;\n",
       "    }\n",
       "\n",
       "    .dataframe thead th {\n",
       "        text-align: right;\n",
       "    }\n",
       "</style>\n",
       "<table border=\"1\" class=\"dataframe\">\n",
       "  <thead>\n",
       "    <tr style=\"text-align: right;\">\n",
       "      <th></th>\n",
       "      <th>img_id</th>\n",
       "      <th>interpretability_method</th>\n",
       "      <th>label</th>\n",
       "      <th>similarity_original</th>\n",
       "      <th>similarity_perturb</th>\n",
       "      <th>hm_original</th>\n",
       "      <th>hm_perturbed</th>\n",
       "      <th>alpha</th>\n",
       "      <th>clip_model</th>\n",
       "    </tr>\n",
       "  </thead>\n",
       "  <tbody>\n",
       "    <tr>\n",
       "      <th>0</th>\n",
       "      <td>0</td>\n",
       "      <td>selfattn</td>\n",
       "      <td>9</td>\n",
       "      <td>0.297058</td>\n",
       "      <td>0.304125</td>\n",
       "      <td>[[5.695657e-09, 5.695657e-09, 5.695657e-09, 5....</td>\n",
       "      <td>[[5.695657e-09, 5.695657e-09, 5.695657e-09, 5....</td>\n",
       "      <td>0.031373</td>\n",
       "      <td>ViT-B/16</td>\n",
       "    </tr>\n",
       "    <tr>\n",
       "      <th>1</th>\n",
       "      <td>0</td>\n",
       "      <td>gradcam</td>\n",
       "      <td>9</td>\n",
       "      <td>0.297058</td>\n",
       "      <td>0.304125</td>\n",
       "      <td>[[0.21647048, 0.21647048, 0.21647048, 0.216470...</td>\n",
       "      <td>[[0.21647048, 0.21647048, 0.21647048, 0.216470...</td>\n",
       "      <td>0.031373</td>\n",
       "      <td>ViT-B/16</td>\n",
       "    </tr>\n",
       "    <tr>\n",
       "      <th>2</th>\n",
       "      <td>0</td>\n",
       "      <td>maskclip</td>\n",
       "      <td>9</td>\n",
       "      <td>0.297058</td>\n",
       "      <td>0.304125</td>\n",
       "      <td>[[0.14614615, 0.14614615, 0.14614615, 0.146146...</td>\n",
       "      <td>[[0.14614615, 0.14614615, 0.14614615, 0.146146...</td>\n",
       "      <td>0.031373</td>\n",
       "      <td>ViT-B/16</td>\n",
       "    </tr>\n",
       "    <tr>\n",
       "      <th>3</th>\n",
       "      <td>0</td>\n",
       "      <td>eclip</td>\n",
       "      <td>9</td>\n",
       "      <td>0.297058</td>\n",
       "      <td>0.304125</td>\n",
       "      <td>[[0.06186527, 0.06186527, 0.06186527, 0.061865...</td>\n",
       "      <td>[[0.06186527, 0.06186527, 0.06186527, 0.061865...</td>\n",
       "      <td>0.031373</td>\n",
       "      <td>ViT-B/16</td>\n",
       "    </tr>\n",
       "    <tr>\n",
       "      <th>4</th>\n",
       "      <td>0</td>\n",
       "      <td>game</td>\n",
       "      <td>9</td>\n",
       "      <td>0.297058</td>\n",
       "      <td>0.304125</td>\n",
       "      <td>[[0.013980941, 0.013980941, 0.013980941, 0.013...</td>\n",
       "      <td>[[0.068501346, 0.068501346, 0.068501346, 0.068...</td>\n",
       "      <td>0.031373</td>\n",
       "      <td>ViT-B/16</td>\n",
       "    </tr>\n",
       "  </tbody>\n",
       "</table>\n",
       "</div>"
      ],
      "text/plain": [
       "   img_id interpretability_method  label  similarity_original  \\\n",
       "0       0                selfattn      9             0.297058   \n",
       "1       0                 gradcam      9             0.297058   \n",
       "2       0                maskclip      9             0.297058   \n",
       "3       0                   eclip      9             0.297058   \n",
       "4       0                    game      9             0.297058   \n",
       "\n",
       "   similarity_perturb                                        hm_original  \\\n",
       "0            0.304125  [[5.695657e-09, 5.695657e-09, 5.695657e-09, 5....   \n",
       "1            0.304125  [[0.21647048, 0.21647048, 0.21647048, 0.216470...   \n",
       "2            0.304125  [[0.14614615, 0.14614615, 0.14614615, 0.146146...   \n",
       "3            0.304125  [[0.06186527, 0.06186527, 0.06186527, 0.061865...   \n",
       "4            0.304125  [[0.013980941, 0.013980941, 0.013980941, 0.013...   \n",
       "\n",
       "                                        hm_perturbed     alpha clip_model  \n",
       "0  [[5.695657e-09, 5.695657e-09, 5.695657e-09, 5....  0.031373   ViT-B/16  \n",
       "1  [[0.21647048, 0.21647048, 0.21647048, 0.216470...  0.031373   ViT-B/16  \n",
       "2  [[0.14614615, 0.14614615, 0.14614615, 0.146146...  0.031373   ViT-B/16  \n",
       "3  [[0.06186527, 0.06186527, 0.06186527, 0.061865...  0.031373   ViT-B/16  \n",
       "4  [[0.068501346, 0.068501346, 0.068501346, 0.068...  0.031373   ViT-B/16  "
      ]
     },
     "execution_count": 6,
     "metadata": {},
     "output_type": "execute_result"
    }
   ],
   "source": [
    "log.head()"
   ]
  },
  {
   "cell_type": "code",
   "execution_count": 5,
   "metadata": {},
   "outputs": [
    {
     "data": {
      "text/plain": [
       "810"
      ]
     },
     "execution_count": 5,
     "metadata": {},
     "output_type": "execute_result"
    }
   ],
   "source": [
    "log.size"
   ]
  },
  {
   "cell_type": "code",
   "execution_count": 8,
   "metadata": {},
   "outputs": [
    {
     "data": {
      "text/html": [
       "<div>\n",
       "<style scoped>\n",
       "    .dataframe tbody tr th:only-of-type {\n",
       "        vertical-align: middle;\n",
       "    }\n",
       "\n",
       "    .dataframe tbody tr th {\n",
       "        vertical-align: top;\n",
       "    }\n",
       "\n",
       "    .dataframe thead th {\n",
       "        text-align: right;\n",
       "    }\n",
       "</style>\n",
       "<table border=\"1\" class=\"dataframe\">\n",
       "  <thead>\n",
       "    <tr style=\"text-align: right;\">\n",
       "      <th></th>\n",
       "      <th>hm_original</th>\n",
       "      <th>hm_perturbed</th>\n",
       "    </tr>\n",
       "  </thead>\n",
       "  <tbody>\n",
       "    <tr>\n",
       "      <th>3</th>\n",
       "      <td>[[0.06186527, 0.06186527, 0.06186527, 0.061865...</td>\n",
       "      <td>[[0.06186527, 0.06186527, 0.06186527, 0.061865...</td>\n",
       "    </tr>\n",
       "  </tbody>\n",
       "</table>\n",
       "</div>"
      ],
      "text/plain": [
       "                                         hm_original  \\\n",
       "3  [[0.06186527, 0.06186527, 0.06186527, 0.061865...   \n",
       "\n",
       "                                        hm_perturbed  \n",
       "3  [[0.06186527, 0.06186527, 0.06186527, 0.061865...  "
      ]
     },
     "execution_count": 8,
     "metadata": {},
     "output_type": "execute_result"
    }
   ],
   "source": [
    "filtered_data = log.loc[log[\"interpretability_method\"] == \"eclip\", [\"hm_original\", \"hm_perturbed\"]]\n",
    "filtered_data"
   ]
  },
  {
   "cell_type": "code",
   "execution_count": null,
   "metadata": {},
   "outputs": [],
   "source": [
    "for idx, row in filtered_data.iterrows():\n",
    "    # Cada heatmap está como lista de listas de tensores -> converter para tensor\n",
    "    orig = torch.tensor([[t.item() for t in inner] for inner in row[\"hm_original\"]])\n",
    "    pert = torch.tensor([[t.item() for t in inner] for inner in row[\"hm_perturbed\"]])\n",
    "    \n",
    "    # Flatten para 1D arrays\n",
    "    flat_orig = orig.flatten().to(device).numpy()\n",
    "    flat_perturb = pert.flatten().to(device).numpy()\n",
    "    \n",
    "    # Calcular Spearman\n",
    "    corr, p_val = spearmanr(flat_orig, flat_perturb)\n",
    "    print(f\"Spearman correlation: {corr:.3f}, p-value: {p_val:.3e}\")"
   ]
  },
  {
   "cell_type": "code",
   "execution_count": null,
   "metadata": {},
   "outputs": [],
   "source": []
  },
  {
   "cell_type": "code",
   "execution_count": null,
   "metadata": {},
   "outputs": [],
   "source": [
    "def topk_intersection(map1, map2, k):\n",
    "    flat1 = map1.flatten()\n",
    "    flat2 = map2.flatten()\n",
    "    \n",
    "    topk_indices_1 = torch.topk(flat1.clone().detach(), k).indices\n",
    "    topk_indices_2 = torch.topk(flat2.clone().detach(), k).indices\n",
    "\n",
    "    set1 = set(topk_indices_1.tolist())\n",
    "    set2 = set(topk_indices_2.tolist())    \n",
    "    \n",
    "    intersection = set1.intersection(set2)\n",
    "    \n",
    "    return len(intersection), len(intersection) / k\n",
    "\n",
    "# Valor de k (pode ajustar)\n",
    "k = 100\n",
    "\n",
    "for idx, row in filtered_data.iterrows():\n",
    "    # Converter para tensores\n",
    "    map1 = torch.tensor([[t.item() for t in inner] for inner in row[\"hm_original\"]])\n",
    "    map2 = torch.tensor([[t.item() for t in inner] for inner in row[\"hm_perturbed\"]])\n",
    "    \n",
    "    # Calcular interseção\n",
    "    inter_count, inter_ratio = topk_intersection(map1, map2, k)\n",
    "    print(f\"Top-{k} intersection count: {inter_count}\")\n",
    "    print(f\"Top-{k} intersection ratio: {inter_ratio:.3f}\") "
   ]
  },
  {
   "cell_type": "code",
   "execution_count": 15,
   "metadata": {},
   "outputs": [
    {
     "name": "stdout",
     "output_type": "stream",
     "text": [
      "Method: selfattn\n",
      "ssim value: 1.0 \n",
      "Method: gradcam\n",
      "ssim value: 1.0 \n",
      "Method: maskclip\n",
      "ssim value: 1.0 \n",
      "Method: eclip\n",
      "ssim value: 1.0 \n",
      "Method: game\n",
      "ssim value: 0.41159949828650183 \n",
      "Method: rollout\n",
      "ssim value: 0.7008852546549125 \n",
      "Method: surgery\n",
      "ssim value: 0.5809520827451814 \n",
      "Method: m2ib\n",
      "ssim value: 0.4870703768018727 \n",
      "Method: rise\n",
      "ssim value: 0.38206883497691096 \n"
     ]
    }
   ],
   "source": [
    "from skimage.metrics import structural_similarity as ssim\n",
    "\n",
    "hm_original_values = []\n",
    "hm_perturbed_values = []\n",
    "\n",
    "for idx, row in log.iterrows():\n",
    "    # Obter os tensores de hm_original e hm_perturbed\n",
    "    hm_original = np.array([tensor.flatten() for tensor in row['hm_original']])  # Transformar em array 1D\n",
    "    hm_perturbed = np.array([tensor.flatten() for tensor in row['hm_perturbed']])  # Transformar em array 1D\n",
    "    \n",
    "    # Certificar-se de que os dados estão no formato adequado para o SSIM\n",
    "    # Reshaping para 2D (precisa ser 2D para o cálculo do SSIM)\n",
    "    hm_original = hm_original.reshape(224, 224)  # Exemplo, ajuste conforme o tamanho real do mapa\n",
    "    hm_perturbed = hm_perturbed.reshape(224, 224)\n",
    "\n",
    "    ssim_value = ssim(hm_original, hm_perturbed, data_range=hm_perturbed.max() - hm_perturbed.min())\n",
    "    print(f\"Method: {row['interpretability_method']}\\nssim value: {ssim_value} \")\n",
    "\n"
   ]
  },
  {
   "cell_type": "code",
   "execution_count": 28,
   "metadata": {},
   "outputs": [
    {
     "name": "stdout",
     "output_type": "stream",
     "text": [
      "image id: 0.0\n",
      "similarity difference: 0.023791759128641756 \n"
     ]
    }
   ],
   "source": [
    "agg_data = log.groupby('img_id').agg({\n",
    "    'similarity_original': 'mean',  # Média das similaridades originais\n",
    "    'similarity_perturb': 'mean',   # Média das similaridades perturbadas\n",
    "}).reset_index()\n",
    "\n",
    "for idx, row in agg_data.iterrows():\n",
    "    sim_diff = (row['similarity_perturb'] - row['similarity_original']) / row['similarity_original']\n",
    "    print(f\"image id: {row['img_id']}\\nsimilarity difference: {sim_diff} \")\n",
    "    "
   ]
  },
  {
   "cell_type": "code",
   "execution_count": 23,
   "metadata": {},
   "outputs": [
    {
     "name": "stdout",
     "output_type": "stream",
     "text": [
      "   img_id  similarity_original  similarity_perturb\n",
      "0       0             0.297058            0.304125\n"
     ]
    }
   ],
   "source": [
    "agg_data = log.groupby('img_id').agg({\n",
    "    'similarity_original': 'mean',  # Média das similaridades originais\n",
    "    'similarity_perturb': 'mean',   # Média das similaridades perturbadas\n",
    "}).reset_index()\n",
    "\n",
    "print(agg_data)"
   ]
  }
 ],
 "metadata": {
  "kernelspec": {
   "display_name": "pytorch1.7",
   "language": "python",
   "name": "python3"
  },
  "language_info": {
   "codemirror_mode": {
    "name": "ipython",
    "version": 3
   },
   "file_extension": ".py",
   "mimetype": "text/x-python",
   "name": "python",
   "nbconvert_exporter": "python",
   "pygments_lexer": "ipython3",
   "version": "3.10.14"
  }
 },
 "nbformat": 4,
 "nbformat_minor": 2
}
