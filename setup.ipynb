{
 "cells": [
  {
   "cell_type": "markdown",
   "metadata": {},
   "source": [
    "## How to setup the repository "
   ]
  },
  {
   "cell_type": "code",
   "execution_count": null,
   "metadata": {
    "vscode": {
     "languageId": "shellscript"
    }
   },
   "outputs": [],
   "source": [
    "$ pip install -r requirements.txt\n",
    "## CLIP\n",
    "$ pip install git+https://github.com/openai/CLIP.git\n",
    "## CLIPSurgery\n",
    "$ git clone https://github.com/xmed-lab/CLIP_Surgery.git\n",
    "## GAME\n",
    "$ git clone https://github.com/hila-chefer/Transformer-MM-Explainability.git\n",
    "$ mv Transformer-MM-Explainability/CLIP Game_MM_CLIP\n",
    "$ rm -rf Transformer-MM-Explainability"
   ]
  },
  {
   "cell_type": "markdown",
   "metadata": {},
   "source": [
    "Please download the RIVAL-10 repository to get the database and place on this fodler"
   ]
  },
  {
   "cell_type": "markdown",
   "metadata": {},
   "source": [
    "## Run the analysis\n",
    "\n",
    "To get the analysis you can run [challenges.py](challenges.py). The result will be provide in a series of batches and a _results_full.pkl_ file, if you not seeing this file please run [concat.py](concat.py)\n",
    "\n",
    "Note: If you run all the RIVAL-10 Dataset with all the interpretability methods the code can last 25h on a A4500 GPU strongly recommend to use the command bellow to run the code. The main function is to set make the code run even if the terminal is closed"
   ]
  },
  {
   "cell_type": "code",
   "execution_count": null,
   "metadata": {
    "vscode": {
     "languageId": "shellscript"
    }
   },
   "outputs": [],
   "source": [
    "$ nohup python challenges.py > output.log 2>&1 &"
   ]
  },
  {
   "cell_type": "markdown",
   "metadata": {},
   "source": [
    "## Get the metrics results\n",
    "\n",
    "To get the metrics results you need to run [metrics.py](metrics.py), it will concatenate the .pkl file with collums referencing the metrics.\n",
    "For visualizing you can use [metrics.ipynb](metrics.ipynb) and [plotation.py](plotation.py) to plot the charts."
   ]
  },
  {
   "cell_type": "code",
   "execution_count": null,
   "metadata": {
    "vscode": {
     "languageId": "shellscript"
    }
   },
   "outputs": [],
   "source": [
    "$ python metrics.py results_full.pkl"
   ]
  },
  {
   "cell_type": "markdown",
   "metadata": {},
   "source": [
    "### heatmap analysis\n",
    "\n",
    "If you want to visualize the heatmaps please take a look at [sensibility.ipynb](sensibility.ipynb) and [HM_compared.ipynb](HM_compared.ipynb)\n"
   ]
  },
  {
   "cell_type": "markdown",
   "metadata": {},
   "source": [
    "## Code maintenance\n",
    "\n",
    "[utils.py](utils.py) is responsible for most of the functions of this project. If you want to change something I recommend to start there.\n",
    "\n",
    "[perturbation.py](perturbation.py) make the small variations at the image. If you want to explore different variations scenarious there will be the tools to make it.\n",
    "\n",
    "Any questions please contact dhvc@cin.ufpe.br or faos@cin.ufpe.br"
   ]
  }
 ],
 "metadata": {
  "language_info": {
   "name": "python"
  }
 },
 "nbformat": 4,
 "nbformat_minor": 2
}
